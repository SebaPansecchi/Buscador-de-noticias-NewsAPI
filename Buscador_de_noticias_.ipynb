{
  "nbformat": 4,
  "nbformat_minor": 0,
  "metadata": {
    "colab": {
      "provenance": []
    },
    "kernelspec": {
      "name": "python3",
      "display_name": "Python 3"
    },
    "language_info": {
      "name": "python"
    }
  },
  "cells": [
    {
      "cell_type": "markdown",
      "source": [
        "# Buscador de noticias"
      ],
      "metadata": {
        "id": "Um2hr5SuvJlp"
      }
    },
    {
      "cell_type": "markdown",
      "source": [
        "Link: https://newsapi.org/docs\n",
        "\n",
        "A través de la API de Google News, utilizamos como input un listado de keywords para buscar adversos de empresas.\n",
        "\n",
        "Limitación: la API pública de Google News te trae noticias de los últimos 30 días y con un retraso de 1 día\n",
        "\n",
        "EVERTHING: TE DEJA FILTRAR POR FECHA PERO NO POR PAIS\n",
        "TOP-HEADLINE: NO TE DEJA FILTRAR POR FECHA PERO SI POR PAIS, POR CONSULTAS y POR HOJA DE BÚSQUEDA\n"
      ],
      "metadata": {
        "id": "-4nTYTC-vUhW"
      }
    },
    {
      "cell_type": "markdown",
      "source": [
        "## Endpoint: EVERYTHING"
      ],
      "metadata": {
        "id": "RutfKT2iCb-E"
      }
    },
    {
      "cell_type": "code",
      "source": [
        "import pandas as pd\n",
        "import requests\n",
        "import json\n",
        "\n",
        "# API Key para acceder a Google News API\n",
        "api_key = 'YOUR API'\n",
        "\n",
        "# Leer los datos del archivo Excel donde se tenga la lista de empresas y kewords\n",
        "df = pd.read_excel('/content/empresas_keywords.xlsx')\n",
        "\n",
        "# Obtener las empresas y las keywords\n",
        "nombres = df['Nombres'].dropna().unique()\n",
        "keywords = df['Keywords'].dropna().unique()\n",
        "\n",
        "# Iterar sobre cada empresa\n",
        "for nombre in nombres:\n",
        "    # Iterar sobre cada palabra clave\n",
        "    for keyword in keywords:\n",
        "        # Construir los términos de búsqueda\n",
        "        q = f'{nombre} {keyword}'\n",
        "\n",
        "        # URL de la API de Google News (tambien se puede limitar por pagina)\n",
        "        url = f'https://newsapi.org/v2/everything?q={q}&from=2023-03-05&to=2023-03-06&apiKey={api_key}'\n",
        "\n",
        "        # Hacer la solicitud a la API\n",
        "        response = requests.get(url)\n",
        "\n",
        "        # Comprobar que la solicitud se haya realizado correctamente\n",
        "        if response.status_code == 200:\n",
        "            # Decodificar la respuesta en formato JSON\n",
        "            news_data = json.loads(response.text)\n",
        "\n",
        "            # Imprimir los títulos y enlaces de las noticias encontradas\n",
        "            for article in news_data['articles']:\n",
        "                print(f'Fecha de publicación: {article[\"publishedAt\"]} - Nombre: {nombre} - Título: {article[\"title\"]} - Enlace: {article[\"url\"]}')\n",
        "        else:\n",
        "            print('Error al acceder a la API de Google News')\n"
      ],
      "metadata": {
        "colab": {
          "base_uri": "https://localhost:8080/"
        },
        "id": "aFuSRJDZvJwX",
        "outputId": "2c65f5c6-6927-4951-e7a5-44250f166272"
      },
      "execution_count": null,
      "outputs": [
        {
          "output_type": "stream",
          "name": "stdout",
          "text": [
            "Fecha de publicación: 2023-03-06T13:11:00Z - Nombre: Mauricio Macri - Título: Carlos Pagni: “Cristina y Máximo están condenados a convivir con un programa económico en el que no creen” - Enlace: https://www.lanacion.com.ar/politica/carlos-pagni-cristina-y-maximo-estan-condenados-a-convivir-con-un-programa-economico-en-el-que-no-nid06032023/\n",
            "Fecha de publicación: 2023-03-06T03:31:00Z - Nombre: Mauricio Macri - Título: La ONU revisa el estado de la independencia judicial en la Argentina y recibió serias denuncias de jueces - Enlace: https://www.lanacion.com.ar/politica/la-onu-revisa-el-estado-de-la-independencia-judicial-en-la-argentina-y-recibio-serias-denuncias-de-nid06032023/\n",
            "Fecha de publicación: 2023-03-05T07:15:00Z - Nombre: Mauricio Macri - Título: Carlos Pagni: “Cristina Kirchner ha perdido poder y no tiene un control férreo del Frente de Todos” - Enlace: https://www.lanacion.com.ar/politica/carlos-pagni-cristina-kirchner-ha-perdido-poder-y-no-tiene-un-control-ferreo-del-frente-de-todos-nid05032023/\n",
            "Fecha de publicación: 2023-03-05T14:09:00Z - Nombre: Mauricio Macri - Título: En el reino del internismo - Enlace: https://noticias.perfil.com/noticias/en-la-mira-de-noticias/en-el-reino-del-internismo.phtml\n",
            "Fecha de publicación: 2023-03-05T14:09:00Z - Nombre: Mauricio Macri - Título: En el reino del internismo - Enlace: https://noticias.perfil.com/noticias/opinion/en-el-reino-del-internismo.phtml\n",
            "Fecha de publicación: 2023-03-05T13:21:04Z - Nombre: Mauricio Macri - Título: Una empresa española borra el pasado digital de narcos, corruptos y otros clientes, argentinos incluidos - Enlace: https://www.lanacion.com.ar/politica/una-empresa-espanola-borra-el-pasado-digital-de-narcos-corruptos-y-otros-clientes-argentinos-nid05032023/\n"
          ]
        }
      ]
    },
    {
      "cell_type": "code",
      "source": [],
      "metadata": {
        "id": "9bmxQJ1ZxzYi"
      },
      "execution_count": null,
      "outputs": []
    },
    {
      "cell_type": "markdown",
      "source": [
        "### Con descarga en  un excel"
      ],
      "metadata": {
        "id": "WBaaIXugW_1x"
      }
    },
    {
      "cell_type": "code",
      "source": [
        "from pandas import DataFrame, read_excel\n",
        "import requests\n",
        "import json\n",
        "\n",
        "# API Key para acceder a Google News API\n",
        "api_key = 'YOUR API'\n",
        "\n",
        "# Leer los datos del archivo Excel\n",
        "df = read_excel('/content/empresas_keywords.xlsx')\n",
        "\n",
        "# Obtener las empresas y las keywords\n",
        "nombres = df['Nombres'].dropna().unique()\n",
        "keywords = df['Keywords'].dropna().unique()\n",
        "\n",
        "# Iterar sobre cada empresa\n",
        "for nombre in nombres:\n",
        "    # Iterar sobre cada palabra clave\n",
        "    for keyword in keywords:\n",
        "        # Construir los términos de búsqueda\n",
        "        q = f'{nombre} {keyword}'\n",
        "\n",
        "        # URL de la API de Google News\n",
        "        url = f'https://newsapi.org/v2/everything?q={q}&apiKey={api_key}'\n",
        "\n",
        "        # Hacer la solicitud a la API\n",
        "        response = requests.get(url)\n",
        "\n",
        "        # Comprobar que la solicitud se haya realizado correctamente\n",
        "        if response.status_code == 200:\n",
        "            # Decodificar la respuesta en formato JSON\n",
        "            news_data = json.loads(response.text)\n",
        "            data = []\n",
        "            # Imprimir los títulos y enlaces de las noticias encontradas\n",
        "            for article in news_data['articles']:\n",
        "                row = {\n",
        "                    \"Fecha de publicación\": article[\"publishedAt\"],\n",
        "                    \"Nombre\": nombre,\n",
        "                    \"Título\": article[\"title\"],\n",
        "                    \"Enlace\": article[\"url\"]\n",
        "                }\n",
        "                data.append(row)\n",
        "            df = DataFrame(data)\n",
        "            df.to_excel(\"noticias.xlsx\", index=False)\n",
        "        else:\n",
        "            print('Error al acceder a la API de Google News')"
      ],
      "metadata": {
        "id": "qqotqW0sfcbP"
      },
      "execution_count": null,
      "outputs": []
    },
    {
      "cell_type": "markdown",
      "source": [
        "### LIMITADOR DE CONSULTA\n",
        "\n"
      ],
      "metadata": {
        "id": "FPKUl07gB7oF"
      }
    },
    {
      "cell_type": "code",
      "source": [
        "from pandas import DataFrame, read_excel\n",
        "import requests\n",
        "import json\n",
        "\n",
        "# API Key para acceder a Google News API\n",
        "api_key = 'YOUR API'\n",
        "\n",
        "# Leer los datos del archivo Excel\n",
        "df = read_excel('/content/empresas_keywords.xlsx')\n",
        "\n",
        "# Obtener las empresas y las keywords\n",
        "nombres = df['Nombres'].dropna().unique()\n",
        "keywords = df['Keywords'].dropna().unique()\n",
        "\n",
        "# Iterar sobre cada empresa\n",
        "contador = 0\n",
        "for nombre in nombres:\n",
        "    # Iterar sobre cada palabra clave\n",
        "    for keyword in keywords:\n",
        "        # Construir los términos de búsqueda\n",
        "        q = f'{nombre} {keyword}'\n",
        "\n",
        "        # URL de la API de Google News\n",
        "        url = f'https://newsapi.org/v2/everything?q={q}&apiKey={api_key}'\n",
        "\n",
        "        # Hacer la solicitud a la API\n",
        "        response = requests.get(url)\n",
        "\n",
        "        # Comprobar que la solicitud se haya realizado correctamente\n",
        "        if response.status_code == 200:\n",
        "            # Decodificar la respuesta en formato JSON\n",
        "            news_data = json.loads(response.text)\n",
        "            data = []\n",
        "            # Imprimir los títulos y enlaces de las noticias encontradas\n",
        "            for article in news_data['articles']:\n",
        "                row = {\n",
        "                    \"Fecha de publicación\": article[\"publishedAt\"],\n",
        "                    \"Nombre\": nombre,\n",
        "                    \"Título\": article[\"title\"],\n",
        "                    \"Enlace\": article[\"url\"]\n",
        "                }\n",
        "                data.append(row)\n",
        "            df = DataFrame(data)\n",
        "            df.to_excel(\"noticias2.xlsx\", index=False)\n",
        "            contador += 1\n",
        "        else:\n",
        "            print('Error al acceder a la API de Google News')\n",
        "    # Detener el bucle externo cuando se hayan hecho 10 consultas\n",
        "    if contador >= 10:\n",
        "        break"
      ],
      "metadata": {
        "id": "PFdYLxcc7Edz"
      },
      "execution_count": null,
      "outputs": []
    }
  ]
}